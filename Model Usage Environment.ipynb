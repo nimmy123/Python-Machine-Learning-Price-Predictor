{
 "cells": [
  {
   "cell_type": "code",
   "execution_count": 4,
   "metadata": {},
   "outputs": [],
   "source": [
    "from joblib import dump, load # We can Load our model with the help of JOblib Function in Sklearn\n",
    "model = load('I&G Real Estate Pvt Ltd.joblib') \n",
    "import numpy as np"
   ]
  },
  {
   "cell_type": "code",
   "execution_count": 5,
   "metadata": {},
   "outputs": [
    {
     "data": {
      "text/plain": [
       "array([21.348])"
      ]
     },
     "execution_count": 5,
     "metadata": {},
     "output_type": "execute_result"
    }
   ],
   "source": [
    "features = np.array([[-0.53942006,  3.12628155, -10.12165014, -5.27288841, -1.42262747,\n",
    "       -4.241100041041, -1.31238772,  55.61111401, -1.0016859 , -0.5778192 ,\n",
    "       -0.97491834,  0.41164221, -0.86091034]])\n",
    "\n",
    "\n",
    "model.predict(features)"
   ]
  },
  {
   "cell_type": "code",
   "execution_count": 6,
   "metadata": {},
   "outputs": [
    {
     "data": {
      "text/plain": [
       "array([22.476, 25.545, 16.461, 37.533, 37.507])"
      ]
     },
     "execution_count": 6,
     "metadata": {},
     "output_type": "execute_result"
    }
   ],
   "source": [
    "features = np.array([[-0.43942006,  5.12628155, -1.12165014, -0.27288841, -1.42262747,\n",
    "        -0.24141041, -1.31238772,  2.61111401, -1.0016859 , -0.5778192 ,\n",
    "        -0.97491834,  0.41164221, -0.86091034],\n",
    "       [-0.44352175,  3.12628155, -1.35893781, -0.27288841, -1.0542567 ,\n",
    "         0.49865392, -1.3938808 ,  7.19312325, -0.65766683, -0.78557904,\n",
    "        -0.69277865,  0.39131918, -0.94116739],\n",
    "       [ 0.15682292, -0.4898311 ,  0.98336806, -0.27288841,  0.47919371,\n",
    "         0.28660512,  0.87020968, -0.68730678,  1.63579367,  1.50571521,\n",
    "         0.81196637,  0.44624347,  0.81480158],\n",
    "       [-0.42292925, -0.4898311 , -0.57719868, -0.27288841, -0.5573845 ,\n",
    "         5.13494109, -0.52225911,  0.37882487, -0.5429938 , -0.74402708,\n",
    "         0.52982668,  0.45343469, -0.81939807],\n",
    "       [-0.40786253, -0.4898311 , -0.57719868, -0.27288841, -0.5573845 ,\n",
    "         12.0450661 , -1.42222622,  0.79643404, -0.5429938 , -0.74402708,\n",
    "         0.52982668,  0.45343469, -0.91902752]])\n",
    "\n",
    "\n",
    "model.predict(features)"
   ]
  },
  {
   "cell_type": "code",
   "execution_count": 17,
   "metadata": {},
   "outputs": [
    {
     "data": {
      "text/plain": [
       "array([30.307])"
      ]
     },
     "execution_count": 17,
     "metadata": {},
     "output_type": "execute_result"
    }
   ],
   "source": [
    "attributes = np.array([[-0.53942006,  4.12628155, -10.12165014, -5.27288841, -1.42262747,\n",
    "       2.241100041041, -1.31238772,  55.61111401, -1.0016859 , -0.5778192 ,\n",
    "       -0.97491834,  0.41164221, 5.86091034]])\n",
    "\n",
    "#attributes are the values of houses like no. of rooms etc \n",
    "model.predict(attributes)"
   ]
  },
  {
   "cell_type": "code",
   "execution_count": 40,
   "metadata": {},
   "outputs": [
    {
     "data": {
      "text/plain": [
       "array([25.506, 23.221, 23.241, 23.668, 18.099])"
      ]
     },
     "execution_count": 40,
     "metadata": {},
     "output_type": "execute_result"
    }
   ],
   "source": [
    "attributes = np.array ([[ -114, 22, 23, 25, -500, 36, 54, 268, -457, 54, 55, 25, 25],\n",
    "                        [ 114, 22, 23, 25, -500, 36, 54, 268, -457, 54, 55, 25, 25],\n",
    "                        [ 14, -22, 253, 25, -56, 36, 54, 268, -457, 54, 55, 25, 25],\n",
    "                        [ -0.0056, 22, 63, 25, -500, 36, 54, 268, -457, 54, 55, 25, 25],\n",
    "                        [ -11, 22, 23, 25, -500, -55, 54, 268, -457, 54, 55, 25, 25]\n",
    "                        \n",
    "                         \n",
    "    \n",
    "    \n",
    "    \n",
    "])\n",
    "model.predict(attributes)"
   ]
  },
  {
   "cell_type": "code",
   "execution_count": null,
   "metadata": {},
   "outputs": [],
   "source": []
  },
  {
   "cell_type": "code",
   "execution_count": null,
   "metadata": {},
   "outputs": [],
   "source": []
  }
 ],
 "metadata": {
  "kernelspec": {
   "display_name": "Python 3",
   "language": "python",
   "name": "python3"
  },
  "language_info": {
   "codemirror_mode": {
    "name": "ipython",
    "version": 3
   },
   "file_extension": ".py",
   "mimetype": "text/x-python",
   "name": "python",
   "nbconvert_exporter": "python",
   "pygments_lexer": "ipython3",
   "version": "3.8.2"
  }
 },
 "nbformat": 4,
 "nbformat_minor": 4
}
